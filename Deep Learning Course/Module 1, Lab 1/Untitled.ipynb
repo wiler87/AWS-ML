{
 "cells": [
  {
   "cell_type": "code",
   "execution_count": null,
   "id": "951bd07a-6142-4da5-a133-95b7b315bd82",
   "metadata": {},
   "outputs": [],
   "source": [
    "!zip -r example.zip full_lab"
   ]
  }
 ],
 "metadata": {
  "kernelspec": {
   "display_name": "Python 3 (ipykernel)",
   "language": "python",
   "name": "python3"
  },
  "language_info": {
   "codemirror_mode": {
    "name": "ipython",
    "version": 3
   },
   "file_extension": ".py",
   "mimetype": "text/x-python",
   "name": "python",
   "nbconvert_exporter": "python",
   "pygments_lexer": "ipython3",
   "version": "3.11.7"
  }
 },
 "nbformat": 4,
 "nbformat_minor": 5
}
