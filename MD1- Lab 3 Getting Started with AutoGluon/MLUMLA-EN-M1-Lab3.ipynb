{
  "cells": [
    {
      "cell_type": "markdown",
      "metadata": {},
      "source": [
        "<center><img src=\"images/logo.png\" alt=\"drawing\" width=\"400\" style=\"background-color:white; padding:1em;\" /></center> <br/>\n",
        "\n",
        "# ML through Application\n",
        "## Module 1, Lab 3: Getting Started with AutoGluon\n",
        "\n",
        "This notebook covers how to create a model to solve an ML problem by using [AutoGluon](https://auto.gluon.ai/stable/index.html#).\n",
        "\n",
        "You will learn how to do the following:\n",
        "\n",
        "- Import the AutoGluon library.\n",
        "- Import data to a Pandas DataFrame.\n",
        "- Train a model by using AutoGluon.\n",
        "\n",
        "---\n",
        "\n",
        "You will explore a dataset that contains information about books. The goal is to predict book prices by using features about the books.\n",
        "\n",
        "__Business problem:__ Books from a large database with several features cannot be listed for sale because one critical piece of information is missing: the price. \n",
        "\n",
        "__ML problem description:__ Predict book prices by using book features, such as genre, release data, ratings, and number of reviews.\n",
        "\n",
        "This is a regression task (the training dataset has a book price column to use for labels).\n",
        "\n",
        "----\n",
        "\n",
        "You will be presented with two kinds of exercises throughout the notebook: activities and challenges. <br/>\n",
        "\n",
        "| <img style=\"float: center;\" src=\"images/activity.png\" alt=\"Activity\" width=\"125\"/>| <img style=\"float: center;\" src=\"images/challenge.png\" alt=\"Challenge\" width=\"125\"/>|\n",
        "| --- | --- |\n",
        "|<p style=\"text-align:center;\">No coding is needed for an activity. You try to understand a concept, <br/>answer questions, or run a code cell.</p> |<p style=\"text-align:center;\">Challenges are where you can practice your coding skills.</p>"
      ]
    },
    {
      "cell_type": "markdown",
      "metadata": {},
      "source": [
        "## Index\n",
        "- [Importing AutoGluon](#Importing-AutoGluon)\n",
        "- [Getting the data](#Getting-the-data)\n",
        "- [Model training with AutoGluon](#Model-training-with-AutoGluon)"
      ]
    },
    {
      "cell_type": "markdown",
      "metadata": {},
      "source": [
        "---\n",
        "## Importing AutoGluon\n",
        "\n",
        "Install and load the libraries that are needed to work with the tabular dataset."
      ]
    },
    {
      "cell_type": "code",
      "execution_count": null,
      "metadata": {
        "tags": []
      },
      "outputs": [],
      "source": [
        "%%capture\n",
        "# Use pip to install libraries\n",
        "!pip install -U -q -r requirements.txt"
      ]
    },
    {
      "cell_type": "code",
      "execution_count": null,
      "metadata": {
        "tags": []
      },
      "outputs": [],
      "source": [
        "# Import the libraries that are needed for the notebook\n",
        "%load_ext autoreload\n",
        "import pandas as pd\n",
        "# Import utility functions and challenge questions\n",
        "from MLUMLA_EN_M1_Lab3_quiz_questions import *\n",
        "\n",
        "# Import the newly installed AutoGluon code library\n",
        "from autogluon.tabular import TabularPredictor, TabularDataset"
      ]
    },
    {
      "cell_type": "markdown",
      "metadata": {},
      "source": [
        "---\n",
        "## Getting the data\n",
        "\n",
        "Now get the data for the business problem. \n",
        "\n",
        "__Note:__ You will use the [Amazon Product Reviews](https://cseweb.ucsd.edu/~jmcauley/datasets.html#amazon_reviews) dataset. For more information about this dataset, see the following resources:\n",
        "\n",
        "- Ruining He and Julian McAuley. \"Ups and Downs: Modeling the Visual Evolution of Fashion Trends with One-Class Collaborative Filtering.\" Proceedings of the 25th International Conference on World Wide Web, Geneva, Switzerland, April 2016. https://doi.org/10.1145/2872427.2883037.\n",
        "\n",
        "- Julian McAuley, Christopher Targett, Qinfeng Shi, Anton van den Hengel. \"Image-Based Recommendations on Styles and Substitutes.\" Proceedings of the 38th International Association for Computing Machinery (ACM) Special Interest Group on Information Retrieval (SIGIR) Conference on Research and Development in Information Retrieval, Santiago, Chile, August 2015. https://doi.org/10.1145/2766462.2767755."
      ]
    },
    {
      "cell_type": "markdown",
      "metadata": {},
      "source": [
        "To load the training and test data, and then show the first few rows of the training dataset, run the following cells."
      ]
    },
    {
      "cell_type": "code",
      "execution_count": null,
      "metadata": {},
      "outputs": [],
      "source": [
        "df_train = TabularDataset(data=\"data/train.csv\")\n",
        "df_test = TabularDataset(data=\"data/test.csv\")"
      ]
    },
    {
      "cell_type": "code",
      "execution_count": null,
      "metadata": {},
      "outputs": [],
      "source": [
        "df_train.head()"
      ]
    },
    {
      "cell_type": "markdown",
      "metadata": {},
      "source": [
        "<div style=\"border: 4px solid coral; text-align: center; margin: auto;\">\n",
        "    <h3><i>It's time to check your knowledge!</i></h3>\n",
        "    <br>\n",
        "    <p style=\" text-align: center; margin: auto;\">To load the question, run the following cell.</p>\n",
        "    <br>\n",
        "</div> "
      ]
    },
    {
      "cell_type": "code",
      "execution_count": null,
      "metadata": {},
      "outputs": [],
      "source": [
        "# Run this cell for a knowledge check question\n",
        "question_1"
      ]
    },
    {
      "cell_type": "markdown",
      "metadata": {},
      "source": [
        "---\n",
        "## Model training with AutoGluon\n",
        "\n",
        "You can use AutoGluon to train a model by using a single line of code. You need to provide the dataset and tell AutoGluon which column from the dataset you are trying to predict."
      ]
    },
    {
      "cell_type": "markdown",
      "metadata": {},
      "source": [
        "<div style=\"border: 4px solid coral; text-align: center; margin: auto;\">\n",
        "    <h3><i>Try it yourself!</i></h3>\n",
        "    <br>\n",
        "    <p style=\"text-align:center;margin:auto;\"><img src=\"images/activity.png\" alt=\"Activity\" width=\"100\" /> </p>\n",
        "    <p style=\" text-align: center; margin: auto;\">To prepare the datasets, run the following cell.<br/>\n",
        "        This step is not required for AutoGluon to work, but it will reduce the time to train your first model.<br/>\n",
        "The code randomly selects 1,000 rows from the dataset and splits them into training and validation datasets.</p>\n",
        "    <br>\n",
        "</div>"
      ]
    },
    {
      "cell_type": "code",
      "execution_count": null,
      "metadata": {},
      "outputs": [],
      "source": [
        "# Sampling 1,000\n",
        "# Try setting the subsample_size to a much larger value to see what happens during training\n",
        "subsample_size = 1000  # Sample a subset of the data for faster demo\n",
        "df_train_smaller = df_train.sample(n=subsample_size, random_state=0)\n",
        "\n",
        "# Print the first few rows\n",
        "df_train_smaller.head()"
      ]
    },
    {
      "cell_type": "markdown",
      "metadata": {},
      "source": [
        "<div style=\"border: 4px solid coral; text-align: center; margin: auto;\">\n",
        "    <h3><i>It's time to check your knowledge!</i></h3>\n",
        "    <br>\n",
        "    <p style=\" text-align: center; margin: auto;\">To load the question, run the following cell.</p>\n",
        "    <br>\n",
        "</div> "
      ]
    },
    {
      "cell_type": "code",
      "execution_count": null,
      "metadata": {},
      "outputs": [],
      "source": [
        "# Run this cell for a knowledge check question\n",
        "question_2"
      ]
    },
    {
      "cell_type": "markdown",
      "metadata": {},
      "source": [
        "### Training a model with a small sample\n",
        "\n",
        "AutoGluon uses certain defaults. For example, AutoGluon uses `root_mean_squared_error` as an evaluation metric for regression problems. For more information, see [sklearn.metrics](https://scikit-learn.org/stable/modules/classes.html#sklearn-metrics-metrics) in the sklearn documentation.\n",
        "\n",
        "__Note:__ Training on this smaller dataset will take approximately 3–4 minutes."
      ]
    },
    {
      "cell_type": "markdown",
      "metadata": {},
      "source": [
        "<div style=\"border: 4px solid coral; text-align: center; margin: auto;\">\n",
        "    <h3><i>Try it yourself!</i></h3>\n",
        "    <br>\n",
        "    <p style=\"text-align:center;margin:auto;\"><img src=\"images/activity.png\" alt=\"Activity\" width=\"100\" /> </p>\n",
        "    <p style=\" text-align: center; margin: auto;\">Use `TabularPredictor` to train the first version of the model along with the smaller 1000 sample training dataset so the model trains faster.<br>\n",
        "</p>\n",
        "    <br>\n",
        "</div>"
      ]
    },
    {
      "cell_type": "code",
      "execution_count": null,
      "metadata": {},
      "outputs": [],
      "source": [
        "# Run this cell\n",
        "\n",
        "smaller_predictor = TabularPredictor(label=\"Price\", eval_metric = 'mean_squared_error').fit(train_data=df_train_smaller)"
      ]
    },
    {
      "cell_type": "markdown",
      "metadata": {},
      "source": [
        "### Interpreting the training output\n",
        "AutoGluon outputs a lot of information about what happens during model training."
      ]
    },
    {
      "cell_type": "markdown",
      "metadata": {},
      "source": [
        "<div style=\"border: 4px solid coral; text-align: center; margin: auto;\"> \n",
        "    <h3><i>Try it yourself!</i></h3>\n",
        "    <p style=\"text-align:center; margin:auto;\"><img src=\"images/challenge.png\" alt=\"Activity\" width=\"100\" /> </p>\n",
        "    <p style=\" text-align: center; margin: auto;\">After the training finishes, examine the output and answer the following questions based on the output.</p>\n",
        "    <br>\n",
        "</div>\n"
      ]
    },
    {
      "cell_type": "markdown",
      "metadata": {},
      "source": [
        "1. What is the shape of the training dataset?\n",
        "2. What type of ML problem (such as classification or regression) does AutoGluon infer? (**Hint:** Remember, you didn't mention the problem type. You only provided the label column.)\n",
        "3. What does AutoGluon suggest in case it inferred the wrong problem type?\n",
        "4. What kind of data preprocessing and feature engineering did AutoGluon perform?\n",
        "5. What are the basic statistics about the label in the print statements from AutoGluon?\n",
        "6. How many extra features were generated in addition to the originals in the dataset? What was the runtime for that?\n",
        "7. Which evaluation metric was used?\n",
        "8. What does AutoGluon suggest in case it inferred the wrong metric?\n",
        "9. What is the ratio between the training and validation dataset? (**Hint:** Look for `val` or `validation`.)\n",
        "10. Where did AutoGluon save the predictor?\n",
        "11. Which folder were the models saved in?\n",
        "12. What file format are the models in? (**Note:** Look at the file name suffix. You don't need to open the file.)\n",
        "\n",
        "Try to answer these questions before you check the solution."
      ]
    },
    {
      "cell_type": "markdown",
      "metadata": {},
      "source": [
        "### List your answers here:\n",
        "1. \n",
        "\n",
        "2. \n",
        "\n",
        "3. \n",
        "\n",
        "4. \n",
        "\n",
        "5. \n",
        "\n",
        "6. \n",
        "\n",
        "7. \n",
        "\n",
        "8. \n",
        "\n",
        "9. \n",
        "\n",
        "10. \n",
        "\n",
        "11. \n",
        "\n",
        "12. \n"
      ]
    },
    {
      "cell_type": "markdown",
      "metadata": {},
      "source": []
    },
    {
      "cell_type": "markdown",
      "metadata": {},
      "source": [
        "----\n",
        "## Conclusion\n",
        "\n",
        "The purpose of this notebook was to explore a dataset of information about books and to use AutoGluon to build a basic model to predict book prices based on book features.\n",
        "\n",
        "## Next lab\n",
        "In the next lab, you will learn how to use AutoGluon features to refine your model."
      ]
    }
  ],
  "metadata": {
    "kernelspec": {
      "display_name": "conda_pytorch_p310",
      "language": "python",
      "name": "conda_pytorch_p310"
    },
    "language_info": {
      "codemirror_mode": {
        "name": "ipython",
        "version": 3
      },
      "file_extension": ".py",
      "mimetype": "text/x-python",
      "name": "python",
      "nbconvert_exporter": "python",
      "pygments_lexer": "ipython3",
      "version": "3.10.10"
    },
    "toc": {
      "base_numbering": 1,
      "nav_menu": {},
      "number_sections": true,
      "sideBar": true,
      "skip_h1_title": false,
      "title_cell": "Table of Contents",
      "title_sidebar": "Contents",
      "toc_cell": false,
      "toc_position": {},
      "toc_section_display": true,
      "toc_window_display": false
    }
  },
  "nbformat": 4,
  "nbformat_minor": 4
}
