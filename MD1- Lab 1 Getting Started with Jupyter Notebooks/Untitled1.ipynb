{
 "cells": [
  {
   "cell_type": "code",
   "execution_count": 2,
   "id": "fd4d7780-726a-46ac-8c7a-e4f1f5c2289d",
   "metadata": {
    "tags": []
   },
   "outputs": [],
   "source": [
    "import pandas as pd\n",
    "sampleDataFrame = pd.read_csv(\"data/review_dataset.csv\")"
   ]
  },
  {
   "cell_type": "code",
   "execution_count": 6,
   "id": "00965602-4872-4152-99a6-50c9dd0fffec",
   "metadata": {
    "tags": []
   },
   "outputs": [],
   "source": [
    "mean_age_by_condition = sampleDataFrame.groupby('Intake Condition')['Age upon Outcome Days'].mean()\n",
    "\n"
   ]
  },
  {
   "cell_type": "code",
   "execution_count": null,
   "id": "5b1ccb9a-514f-4f33-9ef7-25b6c781eed4",
   "metadata": {},
   "outputs": [],
   "source": []
  },
  {
   "cell_type": "code",
   "execution_count": 7,
   "id": "ddd19049-0b6c-48f0-a630-b86babdee97d",
   "metadata": {
    "tags": []
   },
   "outputs": [
    {
     "data": {
      "text/plain": [
       "Intake Condition\n",
       "Aged        4315.184659\n",
       "Behavior     395.000000\n",
       "Feral        661.597938\n",
       "Injured      934.484218\n",
       "Medical     1527.428571\n",
       "Normal       702.889931\n",
       "Nursing       76.946721\n",
       "Other       1163.354497\n",
       "Pregnant     750.301587\n",
       "Sick         885.481473\n",
       "Name: Age upon Outcome Days, dtype: float64"
      ]
     },
     "execution_count": 7,
     "metadata": {},
     "output_type": "execute_result"
    }
   ],
   "source": [
    "mean_age_by_condition"
   ]
  },
  {
   "cell_type": "code",
   "execution_count": 5,
   "id": "8184a0fe-0426-4a33-ba19-10970f68916a",
   "metadata": {
    "tags": []
   },
   "outputs": [
    {
     "data": {
      "text/plain": [
       "dtype('O')"
      ]
     },
     "execution_count": 5,
     "metadata": {},
     "output_type": "execute_result"
    }
   ],
   "source": [
    "sampleDataFrame[\"Intake Condition\"].dtype\n"
   ]
  },
  {
   "cell_type": "code",
   "execution_count": null,
   "id": "6462484e-ce1e-43ff-b7a0-4eb27d7cd514",
   "metadata": {},
   "outputs": [],
   "source": [
    "mean_age_by_condition = sampleDataFrame.groupby('Intake Condition')['Age upon Outcome Days'].mean()"
   ]
  },
  {
   "cell_type": "code",
   "execution_count": null,
   "id": "8c1bd052-9430-4788-877e-cb135e971770",
   "metadata": {},
   "outputs": [],
   "source": []
  }
 ],
 "metadata": {
  "kernelspec": {
   "display_name": "Python 3 (ipykernel)",
   "language": "python",
   "name": "python3"
  },
  "language_info": {
   "codemirror_mode": {
    "name": "ipython",
    "version": 3
   },
   "file_extension": ".py",
   "mimetype": "text/x-python",
   "name": "python",
   "nbconvert_exporter": "python",
   "pygments_lexer": "ipython3",
   "version": "3.11.4"
  }
 },
 "nbformat": 4,
 "nbformat_minor": 5
}
