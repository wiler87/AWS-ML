{
 "cells": [
  {
   "cell_type": "code",
   "execution_count": 4,
   "id": "c09819d6-9ab7-4dba-8ba3-4f746d2ad2ff",
   "metadata": {
    "tags": []
   },
   "outputs": [
    {
     "name": "stdout",
     "output_type": "stream",
     "text": [
      "\tzip warning: name not matched: Lab2_full\n",
      "\n",
      "zip error: Nothing to do! (try: zip -r Lab2_full.zip . -i Lab2_full)\n"
     ]
    }
   ],
   "source": []
  },
  {
   "cell_type": "code",
   "execution_count": 11,
   "id": "f99f8712-2760-4c91-8a85-df58fb14898e",
   "metadata": {
    "tags": []
   },
   "outputs": [
    {
     "name": "stdout",
     "output_type": "stream",
     "text": [
      "\tzip warning: name not matched: Lab2_full\n",
      "\n",
      "zip error: Nothing to do! (try: zip -r Lab2_full.zip . -i Lab2_full)\n"
     ]
    }
   ],
   "source": [
    "\n",
    "!zip -r Lab2_full.zip Lab2_full\n"
   ]
  },
  {
   "cell_type": "code",
   "execution_count": 6,
   "id": "23e96c57-1538-4ac5-91c6-9a67c48e4109",
   "metadata": {
    "tags": []
   },
   "outputs": [
    {
     "name": "stdout",
     "output_type": "stream",
     "text": [
      "\tzip warning: name not matched: Lab2_full\n",
      "\n",
      "zip error: Nothing to do! (try: zip -r example.zip . -i Lab2_full)\n"
     ]
    }
   ],
   "source": [
    "!zip -r example.zip Lab2_full"
   ]
  },
  {
   "cell_type": "code",
   "execution_count": 12,
   "id": "9d1c9618-4689-4ac4-ad1a-91071b39ddc2",
   "metadata": {
    "tags": []
   },
   "outputs": [
    {
     "name": "stdout",
     "output_type": "stream",
     "text": [
      "\tzip warning: zip file empty\n"
     ]
    }
   ],
   "source": [
    "!zip -r example.zip . -i Lab2_full\n"
   ]
  },
  {
   "cell_type": "code",
   "execution_count": 10,
   "id": "cfc7739a-240b-4be5-973d-8191c36e2a87",
   "metadata": {
    "tags": []
   },
   "outputs": [
    {
     "name": "stdout",
     "output_type": "stream",
     "text": [
      "\tzip warning: name not matched: original_folder\n",
      "\n",
      "zip error: Nothing to do! (try: zip -r example.zip . -i original_folder)\n"
     ]
    }
   ],
   "source": [
    "!zip -r example.zip original_folder"
   ]
  },
  {
   "cell_type": "code",
   "execution_count": null,
   "id": "c04e3c72-ab73-409e-80f1-5ef8f46d2d98",
   "metadata": {},
   "outputs": [],
   "source": []
  }
 ],
 "metadata": {
  "kernelspec": {
   "display_name": "conda_amazonei_pytorch_latest_p37",
   "language": "python",
   "name": "conda_amazonei_pytorch_latest_p37"
  },
  "language_info": {
   "codemirror_mode": {
    "name": "ipython",
    "version": 3
   },
   "file_extension": ".py",
   "mimetype": "text/x-python",
   "name": "python",
   "nbconvert_exporter": "python",
   "pygments_lexer": "ipython3",
   "version": "3.7.10"
  }
 },
 "nbformat": 4,
 "nbformat_minor": 5
}
